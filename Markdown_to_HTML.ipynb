{
  "nbformat": 4,
  "nbformat_minor": 0,
  "metadata": {
    "colab": {
      "name": "Markdown_to_HTML.ipynb",
      "provenance": [],
      "authorship_tag": "ABX9TyPsUl7/GFKFqnb7y5PjdV4H",
      "include_colab_link": true
    },
    "kernelspec": {
      "name": "python3",
      "display_name": "Python 3"
    }
  },
  "cells": [
    {
      "cell_type": "markdown",
      "metadata": {
        "id": "view-in-github",
        "colab_type": "text"
      },
      "source": [
        "<a href=\"https://colab.research.google.com/github/jhihan/Markdown_to_HTML/blob/master/Markdown_to_HTML.ipynb\" target=\"_parent\"><img src=\"https://colab.research.google.com/assets/colab-badge.svg\" alt=\"Open In Colab\"/></a>"
      ]
    },
    {
      "cell_type": "markdown",
      "metadata": {
        "id": "ApkRSa_klhO1",
        "colab_type": "text"
      },
      "source": [
        "Practice: translate the Markdown syntax to HTML syntax\n",
        "\n",
        "Markdown vs HTML: https://en.wikipedia.org/wiki/Markdown"
      ]
    },
    {
      "cell_type": "code",
      "metadata": {
        "id": "uN5P8TtjKUFA",
        "colab_type": "code",
        "colab": {}
      },
      "source": [
        "import re"
      ],
      "execution_count": 0,
      "outputs": []
    },
    {
      "cell_type": "code",
      "metadata": {
        "id": "XfrRmuQ5LeIO",
        "colab_type": "code",
        "colab": {}
      },
      "source": [
        "markdown = \"Heading\\n=======\\nSubHeading\\n------------\\nsome text\\n\\n---\\n\\nBullet\\n*first\\n*second\\n*third\\n\\n\""
      ],
      "execution_count": 0,
      "outputs": []
    },
    {
      "cell_type": "code",
      "metadata": {
        "id": "pgGz-QUzLj4j",
        "colab_type": "code",
        "colab": {
          "base_uri": "https://localhost:8080/",
          "height": 204
        },
        "outputId": "f5a853c7-3655-40f6-a8d4-76ce17558f7d"
      },
      "source": [
        "print(markdown)"
      ],
      "execution_count": 332,
      "outputs": [
        {
          "output_type": "stream",
          "text": [
            "Heading\n",
            "=======\n",
            "SubHeading\n",
            "------------\n",
            "some text\n",
            "\n",
            "---\n",
            "\n",
            "Bullet\n",
            "*first\n",
            "*second\n"
          ],
          "name": "stdout"
        }
      ]
    },
    {
      "cell_type": "code",
      "metadata": {
        "id": "AOV3__jeKh8_",
        "colab_type": "code",
        "colab": {}
      },
      "source": [
        "def createTitle(string0):\n",
        "#  pattern = re.compile(r'(=*[\\n])')\n",
        "#  newstring = pattern.sub(r'kkk', string0)\n",
        "  pattern = re.compile(r'(\\w+[^\\n])(\\n)(=+)')  \n",
        "  newstring = pattern.sub(r'<h1>\\1</h1>\\2', string0)\n",
        "#  newstring = pattern.sub(r\"\\1\", string0)\n",
        "  return newstring\n",
        "def createSubtitle(string1):\n",
        "  #pattern = re.compile(r'(-+)')\n",
        "  pattern = re.compile(r'(\\n*)(\\w+[^\\n])(\\n)(-+)')\n",
        "  newstring = pattern.sub(r'\\1<h2>\\2</h2>\\3', string1)\n",
        "  return(newstring)\n",
        "def createBullet(string1):\n",
        "  pattern = re.compile(r'(\\n+)(\\w+[^\\n\\*])(\\n+)(\\*)(\\w+[^\\n\\*])')\n",
        "  string2 = pattern.sub(r'\\1<p>\\2</p>\\3\\n<ul>\\n<li>\\5</li>' , string1)\n",
        "  pattern = re.compile(r'(</li>)(\\n)(\\*)(\\w+[^\\n])(\\n)(\\*)')\n",
        "  string3 = pattern.sub(r'\\1\\2<li>\\4</li>\\5\\6' , string2)\n",
        "  pattern = re.compile(r'(</li>)(\\n)(\\*)(\\w+[^\\n\\*])(\\n{2,})')\n",
        "  newstring = pattern.sub(r'\\1\\2<li>\\4</li>\\n</ul>\\5' , string3)\n",
        " # pattern = re.compile(r'(\\n+)(\\w+[^\\n\\*])(\\n+)(\\*)')\n",
        "  return(newstring)\n",
        "def createNumberedList(string1):\n",
        "  pass\n",
        "def createTextAttributes(string1):\n",
        "  pass\n",
        "def createHorizontalRule(string1):\n",
        "  pattern = re.compile(r'(\\n{2,})(-+)(\\n{2,})')\n",
        "  newstring = pattern.sub( r'\\1<hr />\\3' , string1 )\n",
        "  return(newstring)"
      ],
      "execution_count": 0,
      "outputs": []
    },
    {
      "cell_type": "code",
      "metadata": {
        "id": "ZOhiA6g_OaD_",
        "colab_type": "code",
        "colab": {
          "base_uri": "https://localhost:8080/",
          "height": 306
        },
        "outputId": "8f33cd47-ea30-45c4-bc39-fe6f3e4b1165"
      },
      "source": [
        "string1 = createTitle(markdown)\n",
        "string2 = createSubtitle(string1)\n",
        "string3 = createHorizontalRule(string2)\n",
        "string4 = createBullet(string3)\n",
        "print(string4)"
      ],
      "execution_count": 383,
      "outputs": [
        {
          "output_type": "stream",
          "text": [
            "<h1>Heading</h1>\n",
            "\n",
            "<h2>SubHeading</h2>\n",
            "\n",
            "some text\n",
            "\n",
            "<hr />\n",
            "\n",
            "<p>Bullet</p>\n",
            "\n",
            "<ul>\n",
            "<li>first</li>\n",
            "<li>second</li>\n",
            "<li>third</li>\n",
            "</ul>\n",
            "\n",
            "\n"
          ],
          "name": "stdout"
        }
      ]
    },
    {
      "cell_type": "code",
      "metadata": {
        "id": "UPnRGec3Quzq",
        "colab_type": "code",
        "colab": {
          "base_uri": "https://localhost:8080/",
          "height": 204
        },
        "outputId": "e75af4e9-7605-48a2-a707-2c0f2e8a2743"
      },
      "source": [
        "print(string1)"
      ],
      "execution_count": 342,
      "outputs": [
        {
          "output_type": "stream",
          "text": [
            "<h1>Heading</h1>\n",
            "\n",
            "SubHeading\n",
            "------------\n",
            "some text\n",
            "\n",
            "---\n",
            "\n",
            "Bullet\n",
            "*first\n",
            "*second\n"
          ],
          "name": "stdout"
        }
      ]
    },
    {
      "cell_type": "code",
      "metadata": {
        "id": "e4U_cWsPMD5j",
        "colab_type": "code",
        "colab": {
          "base_uri": "https://localhost:8080/",
          "height": 204
        },
        "outputId": "f368686a-05fe-443d-fba3-c7a5458a1200"
      },
      "source": [
        "print(string2)"
      ],
      "execution_count": 343,
      "outputs": [
        {
          "output_type": "stream",
          "text": [
            "<h1>Heading</h1>\n",
            "\n",
            "<h2>SubHeading</h2>\n",
            "\n",
            "some text\n",
            "\n",
            "---\n",
            "\n",
            "Bullet\n",
            "*first\n",
            "*second\n"
          ],
          "name": "stdout"
        }
      ]
    },
    {
      "cell_type": "code",
      "metadata": {
        "id": "vt405Qb0he_d",
        "colab_type": "code",
        "colab": {
          "base_uri": "https://localhost:8080/",
          "height": 204
        },
        "outputId": "e8dbe15a-bc53-444d-f1bf-e369f6d2ac75"
      },
      "source": [
        "print(string3)"
      ],
      "execution_count": 344,
      "outputs": [
        {
          "output_type": "stream",
          "text": [
            "<h1>Heading</h1>\n",
            "\n",
            "<h2>SubHeading</h2>\n",
            "\n",
            "some text\n",
            "\n",
            "<hr />\n",
            "\n",
            "Bullet\n",
            "*first\n",
            "*second\n"
          ],
          "name": "stdout"
        }
      ]
    },
    {
      "cell_type": "code",
      "metadata": {
        "id": "mDe5pWmjm-O2",
        "colab_type": "code",
        "colab": {
          "base_uri": "https://localhost:8080/",
          "height": 289
        },
        "outputId": "11eec882-c9fd-4986-8c24-59025771d312"
      },
      "source": [
        "print(string4)"
      ],
      "execution_count": 375,
      "outputs": [
        {
          "output_type": "stream",
          "text": [
            "<h1>Heading</h1>\n",
            "\n",
            "<h2>SubHeading</h2>\n",
            "\n",
            "some text\n",
            "\n",
            "<hr />\n",
            "\n",
            "<p>Bullet</p>\n",
            "<ul>\n",
            "<li>first</li>\n",
            "<li>second</li>\n",
            "<li>third</li>\n",
            "</ul>\n",
            "\n",
            "\n"
          ],
          "name": "stdout"
        }
      ]
    }
  ]
}